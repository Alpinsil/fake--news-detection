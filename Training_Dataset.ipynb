{
  "nbformat": 4,
  "nbformat_minor": 0,
  "metadata": {
    "colab": {
      "name": "Training_Dataset.ipynb",
      "provenance": [],
      "include_colab_link": true
    },
    "kernelspec": {
      "name": "python3",
      "display_name": "Python 3"
    },
    "language_info": {
      "name": "python"
    }
  },
  "cells": [
    {
      "cell_type": "markdown",
      "metadata": {
        "id": "view-in-github",
        "colab_type": "text"
      },
      "source": [
        "<a href=\"https://colab.research.google.com/github/Alpinsil/fake--news-detection/blob/master/Training_Dataset.ipynb\" target=\"_parent\"><img src=\"https://colab.research.google.com/assets/colab-badge.svg\" alt=\"Open In Colab\"/></a>"
      ]
    },
    {
      "cell_type": "code",
      "source": [
        "!pip install Sastrawi"
      ],
      "metadata": {
        "colab": {
          "base_uri": "https://localhost:8080/"
        },
        "id": "ZKltMqGqYQXm",
        "outputId": "1e00eb25-cee0-4f48-81c4-12fdc3071b6b"
      },
      "execution_count": 1,
      "outputs": [
        {
          "output_type": "stream",
          "name": "stdout",
          "text": [
            "Looking in indexes: https://pypi.org/simple, https://us-python.pkg.dev/colab-wheels/public/simple/\n",
            "Collecting Sastrawi\n",
            "  Downloading Sastrawi-1.0.1-py2.py3-none-any.whl (209 kB)\n",
            "\u001b[K     |████████████████████████████████| 209 kB 5.0 MB/s \n",
            "\u001b[?25hInstalling collected packages: Sastrawi\n",
            "Successfully installed Sastrawi-1.0.1\n"
          ]
        }
      ]
    },
    {
      "cell_type": "code",
      "source": [
        "import pandas as pd\n",
        "import numpy as np\n",
        "import nltk\n",
        "from nltk.tokenize import word_tokenize\n",
        "from sklearn.preprocessing import LabelEncoder\n",
        "from sklearn.feature_extraction.text import TfidfVectorizer\n",
        "from sklearn import svm\n",
        "from sklearn.ensemble import RandomForestClassifier\n",
        "from sklearn.metrics import accuracy_score\n",
        "from sklearn.model_selection import train_test_split\n",
        "from Sastrawi.Stemmer.StemmerFactory import StemmerFactory"
      ],
      "metadata": {
        "id": "9U-2zXf_YWH9"
      },
      "execution_count": 2,
      "outputs": []
    },
    {
      "cell_type": "code",
      "source": [
        "np.random.seed(500)\n",
        "\n",
        "nltk.download('punkt')"
      ],
      "metadata": {
        "colab": {
          "base_uri": "https://localhost:8080/"
        },
        "id": "lMHWieE2YZdz",
        "outputId": "8f72ef04-3d89-4870-b6cb-b45381ba0691"
      },
      "execution_count": 3,
      "outputs": [
        {
          "output_type": "stream",
          "name": "stdout",
          "text": [
            "[nltk_data] Downloading package punkt to /root/nltk_data...\n",
            "[nltk_data]   Unzipping tokenizers/punkt.zip.\n"
          ]
        },
        {
          "output_type": "execute_result",
          "data": {
            "text/plain": [
              "True"
            ]
          },
          "metadata": {},
          "execution_count": 3
        }
      ]
    },
    {
      "cell_type": "code",
      "source": [
        "# Membuat Stemmer\n",
        "factory = StemmerFactory()\n",
        "stemmer = factory.create_stemmer()\n",
        "\n",
        "# Label Encoder use to Encode target labels with value between 0 and n_classes-1\n",
        "Encoder = LabelEncoder()\n",
        "\n",
        "# TfidfVectorizer Convert a collection of raw documents to a matrix of TF-IDF features.\n",
        "Tfidf_vect = TfidfVectorizer()"
      ],
      "metadata": {
        "id": "ITsgy9rNYf8q"
      },
      "execution_count": 4,
      "outputs": []
    },
    {
      "cell_type": "code",
      "source": [
        "data_train = pd.read_csv('./Data_latih.csv')"
      ],
      "metadata": {
        "id": "UxAWGR35YmNC"
      },
      "execution_count": 5,
      "outputs": []
    },
    {
      "cell_type": "code",
      "source": [
        "data_train"
      ],
      "metadata": {
        "id": "3ZS6qbRxeFpR",
        "colab": {
          "base_uri": "https://localhost:8080/",
          "height": 572
        },
        "outputId": "fb3fdac3-1fa1-41b8-a18e-7ad192ee1ad1"
      },
      "execution_count": 6,
      "outputs": [
        {
          "output_type": "execute_result",
          "data": {
            "text/plain": [
              "          ID  label    tanggal  \\\n",
              "0         71      1  17-Aug-20   \n",
              "1        461      1  17-Jul-20   \n",
              "2        495      1  13-Jul-20   \n",
              "3        550      1   8-Jul-20   \n",
              "4        681      1  24-Jun-20   \n",
              "...      ...    ...        ...   \n",
              "4226  999287      1  17-Jan-16   \n",
              "4227  999472      1  20-Aug-20   \n",
              "4228  999501      1  17-Aug-20   \n",
              "4229  999848      1  21-Jul-20   \n",
              "4230  999860      1  20-Jul-20   \n",
              "\n",
              "                                                  judul  \\\n",
              "0     Pemakaian Masker Menyebabkan Penyakit Legionna...   \n",
              "1     Instruksi Gubernur Jateng tentang penilangan  ...   \n",
              "2     Foto Jim Rohn: Jokowi adalah presiden terbaik ...   \n",
              "3     ini bukan politik, tapi kenyataan Pak Jokowi b...   \n",
              "4          Foto Kadrun kalo lihat foto ini panas dingin   \n",
              "...                                                 ...   \n",
              "4226  : KPK Dilarang Membawa Brimob Bersenjata Masuk...   \n",
              "4227            Foto pejabat keuangan dibawah palu arit   \n",
              "4228  Gambar Denny Siregar Musuh Warga Tasikmalaya d...   \n",
              "4229  Kaesang: Bapak Saya dengan Kesederhaan Bisa Ni...   \n",
              "4230  Laser dari termometer gun akan merusak struktu...   \n",
              "\n",
              "                                                 narasi nama file gambar  \n",
              "0     A caller to a radio talk show recently shared ...           71.jpg  \n",
              "1     Yth.Seluruh Anggota Grup Sesuai Instruksi Gube...          461.png  \n",
              "2     Jokowi adalah presiden terbaik dlm sejarah ban...          495.png  \n",
              "3     Maaf Mas2 dan Mbak2, ini bukan politik, tapi k...          550.png  \n",
              "4           Kadrun kalo lihat foto ini panas dingin . .          681.jpg  \n",
              "...                                                 ...              ...  \n",
              "4226  KPK Dilarang Membawa Brimob Bersenjata Masuk G...       999287.jpg  \n",
              "4227  Jangan mau dialihkan kepada pakaian adat… FOKU...       999472.png  \n",
              "4228                 Akhir nya bisa terkenal bang denny       999501.jpg  \n",
              "4229  Bapak Saya dengan Kesederhaan Bisa Nipu Rakyat...       999848.jpg  \n",
              "4230  IN: Saya nolak. Kalau Anda mau periksa, bukan ...       999860.png  \n",
              "\n",
              "[4231 rows x 6 columns]"
            ],
            "text/html": [
              "\n",
              "  <div id=\"df-7fcf0a43-f989-4a1b-b601-30f5a7743d1f\">\n",
              "    <div class=\"colab-df-container\">\n",
              "      <div>\n",
              "<style scoped>\n",
              "    .dataframe tbody tr th:only-of-type {\n",
              "        vertical-align: middle;\n",
              "    }\n",
              "\n",
              "    .dataframe tbody tr th {\n",
              "        vertical-align: top;\n",
              "    }\n",
              "\n",
              "    .dataframe thead th {\n",
              "        text-align: right;\n",
              "    }\n",
              "</style>\n",
              "<table border=\"1\" class=\"dataframe\">\n",
              "  <thead>\n",
              "    <tr style=\"text-align: right;\">\n",
              "      <th></th>\n",
              "      <th>ID</th>\n",
              "      <th>label</th>\n",
              "      <th>tanggal</th>\n",
              "      <th>judul</th>\n",
              "      <th>narasi</th>\n",
              "      <th>nama file gambar</th>\n",
              "    </tr>\n",
              "  </thead>\n",
              "  <tbody>\n",
              "    <tr>\n",
              "      <th>0</th>\n",
              "      <td>71</td>\n",
              "      <td>1</td>\n",
              "      <td>17-Aug-20</td>\n",
              "      <td>Pemakaian Masker Menyebabkan Penyakit Legionna...</td>\n",
              "      <td>A caller to a radio talk show recently shared ...</td>\n",
              "      <td>71.jpg</td>\n",
              "    </tr>\n",
              "    <tr>\n",
              "      <th>1</th>\n",
              "      <td>461</td>\n",
              "      <td>1</td>\n",
              "      <td>17-Jul-20</td>\n",
              "      <td>Instruksi Gubernur Jateng tentang penilangan  ...</td>\n",
              "      <td>Yth.Seluruh Anggota Grup Sesuai Instruksi Gube...</td>\n",
              "      <td>461.png</td>\n",
              "    </tr>\n",
              "    <tr>\n",
              "      <th>2</th>\n",
              "      <td>495</td>\n",
              "      <td>1</td>\n",
              "      <td>13-Jul-20</td>\n",
              "      <td>Foto Jim Rohn: Jokowi adalah presiden terbaik ...</td>\n",
              "      <td>Jokowi adalah presiden terbaik dlm sejarah ban...</td>\n",
              "      <td>495.png</td>\n",
              "    </tr>\n",
              "    <tr>\n",
              "      <th>3</th>\n",
              "      <td>550</td>\n",
              "      <td>1</td>\n",
              "      <td>8-Jul-20</td>\n",
              "      <td>ini bukan politik, tapi kenyataan Pak Jokowi b...</td>\n",
              "      <td>Maaf Mas2 dan Mbak2, ini bukan politik, tapi k...</td>\n",
              "      <td>550.png</td>\n",
              "    </tr>\n",
              "    <tr>\n",
              "      <th>4</th>\n",
              "      <td>681</td>\n",
              "      <td>1</td>\n",
              "      <td>24-Jun-20</td>\n",
              "      <td>Foto Kadrun kalo lihat foto ini panas dingin</td>\n",
              "      <td>Kadrun kalo lihat foto ini panas dingin . .</td>\n",
              "      <td>681.jpg</td>\n",
              "    </tr>\n",
              "    <tr>\n",
              "      <th>...</th>\n",
              "      <td>...</td>\n",
              "      <td>...</td>\n",
              "      <td>...</td>\n",
              "      <td>...</td>\n",
              "      <td>...</td>\n",
              "      <td>...</td>\n",
              "    </tr>\n",
              "    <tr>\n",
              "      <th>4226</th>\n",
              "      <td>999287</td>\n",
              "      <td>1</td>\n",
              "      <td>17-Jan-16</td>\n",
              "      <td>: KPK Dilarang Membawa Brimob Bersenjata Masuk...</td>\n",
              "      <td>KPK Dilarang Membawa Brimob Bersenjata Masuk G...</td>\n",
              "      <td>999287.jpg</td>\n",
              "    </tr>\n",
              "    <tr>\n",
              "      <th>4227</th>\n",
              "      <td>999472</td>\n",
              "      <td>1</td>\n",
              "      <td>20-Aug-20</td>\n",
              "      <td>Foto pejabat keuangan dibawah palu arit</td>\n",
              "      <td>Jangan mau dialihkan kepada pakaian adat… FOKU...</td>\n",
              "      <td>999472.png</td>\n",
              "    </tr>\n",
              "    <tr>\n",
              "      <th>4228</th>\n",
              "      <td>999501</td>\n",
              "      <td>1</td>\n",
              "      <td>17-Aug-20</td>\n",
              "      <td>Gambar Denny Siregar Musuh Warga Tasikmalaya d...</td>\n",
              "      <td>Akhir nya bisa terkenal bang denny</td>\n",
              "      <td>999501.jpg</td>\n",
              "    </tr>\n",
              "    <tr>\n",
              "      <th>4229</th>\n",
              "      <td>999848</td>\n",
              "      <td>1</td>\n",
              "      <td>21-Jul-20</td>\n",
              "      <td>Kaesang: Bapak Saya dengan Kesederhaan Bisa Ni...</td>\n",
              "      <td>Bapak Saya dengan Kesederhaan Bisa Nipu Rakyat...</td>\n",
              "      <td>999848.jpg</td>\n",
              "    </tr>\n",
              "    <tr>\n",
              "      <th>4230</th>\n",
              "      <td>999860</td>\n",
              "      <td>1</td>\n",
              "      <td>20-Jul-20</td>\n",
              "      <td>Laser dari termometer gun akan merusak struktu...</td>\n",
              "      <td>IN: Saya nolak. Kalau Anda mau periksa, bukan ...</td>\n",
              "      <td>999860.png</td>\n",
              "    </tr>\n",
              "  </tbody>\n",
              "</table>\n",
              "<p>4231 rows × 6 columns</p>\n",
              "</div>\n",
              "      <button class=\"colab-df-convert\" onclick=\"convertToInteractive('df-7fcf0a43-f989-4a1b-b601-30f5a7743d1f')\"\n",
              "              title=\"Convert this dataframe to an interactive table.\"\n",
              "              style=\"display:none;\">\n",
              "        \n",
              "  <svg xmlns=\"http://www.w3.org/2000/svg\" height=\"24px\"viewBox=\"0 0 24 24\"\n",
              "       width=\"24px\">\n",
              "    <path d=\"M0 0h24v24H0V0z\" fill=\"none\"/>\n",
              "    <path d=\"M18.56 5.44l.94 2.06.94-2.06 2.06-.94-2.06-.94-.94-2.06-.94 2.06-2.06.94zm-11 1L8.5 8.5l.94-2.06 2.06-.94-2.06-.94L8.5 2.5l-.94 2.06-2.06.94zm10 10l.94 2.06.94-2.06 2.06-.94-2.06-.94-.94-2.06-.94 2.06-2.06.94z\"/><path d=\"M17.41 7.96l-1.37-1.37c-.4-.4-.92-.59-1.43-.59-.52 0-1.04.2-1.43.59L10.3 9.45l-7.72 7.72c-.78.78-.78 2.05 0 2.83L4 21.41c.39.39.9.59 1.41.59.51 0 1.02-.2 1.41-.59l7.78-7.78 2.81-2.81c.8-.78.8-2.07 0-2.86zM5.41 20L4 18.59l7.72-7.72 1.47 1.35L5.41 20z\"/>\n",
              "  </svg>\n",
              "      </button>\n",
              "      \n",
              "  <style>\n",
              "    .colab-df-container {\n",
              "      display:flex;\n",
              "      flex-wrap:wrap;\n",
              "      gap: 12px;\n",
              "    }\n",
              "\n",
              "    .colab-df-convert {\n",
              "      background-color: #E8F0FE;\n",
              "      border: none;\n",
              "      border-radius: 50%;\n",
              "      cursor: pointer;\n",
              "      display: none;\n",
              "      fill: #1967D2;\n",
              "      height: 32px;\n",
              "      padding: 0 0 0 0;\n",
              "      width: 32px;\n",
              "    }\n",
              "\n",
              "    .colab-df-convert:hover {\n",
              "      background-color: #E2EBFA;\n",
              "      box-shadow: 0px 1px 2px rgba(60, 64, 67, 0.3), 0px 1px 3px 1px rgba(60, 64, 67, 0.15);\n",
              "      fill: #174EA6;\n",
              "    }\n",
              "\n",
              "    [theme=dark] .colab-df-convert {\n",
              "      background-color: #3B4455;\n",
              "      fill: #D2E3FC;\n",
              "    }\n",
              "\n",
              "    [theme=dark] .colab-df-convert:hover {\n",
              "      background-color: #434B5C;\n",
              "      box-shadow: 0px 1px 3px 1px rgba(0, 0, 0, 0.15);\n",
              "      filter: drop-shadow(0px 1px 2px rgba(0, 0, 0, 0.3));\n",
              "      fill: #FFFFFF;\n",
              "    }\n",
              "  </style>\n",
              "\n",
              "      <script>\n",
              "        const buttonEl =\n",
              "          document.querySelector('#df-7fcf0a43-f989-4a1b-b601-30f5a7743d1f button.colab-df-convert');\n",
              "        buttonEl.style.display =\n",
              "          google.colab.kernel.accessAllowed ? 'block' : 'none';\n",
              "\n",
              "        async function convertToInteractive(key) {\n",
              "          const element = document.querySelector('#df-7fcf0a43-f989-4a1b-b601-30f5a7743d1f');\n",
              "          const dataTable =\n",
              "            await google.colab.kernel.invokeFunction('convertToInteractive',\n",
              "                                                     [key], {});\n",
              "          if (!dataTable) return;\n",
              "\n",
              "          const docLinkHtml = 'Like what you see? Visit the ' +\n",
              "            '<a target=\"_blank\" href=https://colab.research.google.com/notebooks/data_table.ipynb>data table notebook</a>'\n",
              "            + ' to learn more about interactive tables.';\n",
              "          element.innerHTML = '';\n",
              "          dataTable['output_type'] = 'display_data';\n",
              "          await google.colab.output.renderOutput(dataTable, element);\n",
              "          const docLink = document.createElement('div');\n",
              "          docLink.innerHTML = docLinkHtml;\n",
              "          element.appendChild(docLink);\n",
              "        }\n",
              "      </script>\n",
              "    </div>\n",
              "  </div>\n",
              "  "
            ]
          },
          "metadata": {},
          "execution_count": 6
        }
      ]
    },
    {
      "cell_type": "code",
      "source": [
        "data_train['label'].value_counts()"
      ],
      "metadata": {
        "id": "56HmkiPzeNNs",
        "colab": {
          "base_uri": "https://localhost:8080/"
        },
        "outputId": "cdd12878-de33-46ab-96dd-94f10c629bf0"
      },
      "execution_count": 7,
      "outputs": [
        {
          "output_type": "execute_result",
          "data": {
            "text/plain": [
              "1    3465\n",
              "0     766\n",
              "Name: label, dtype: int64"
            ]
          },
          "metadata": {},
          "execution_count": 7
        }
      ]
    },
    {
      "cell_type": "code",
      "source": [
        "# Dari cell sebelumnya terlihat jelas bahwa dataset kita sangat tidak balance\n",
        "# Untuk membuat datasetnya balance\n",
        "\n",
        "# Pilih dataset dengan label 1 dan lakukan randomisasi untuk setiap baris datanya\n",
        "false_news = data_train[data_train['label'] == 1].sample(frac=1)\n",
        "\n",
        "# Concat dataset berlabel 1 yang telah dipilih dengan dataset berlabel 0\n",
        "# dimana jumlah dataset berlabel 1 yang digabungkan sejumlah banyak dataset berlabel 0 + 200\n",
        "true_fact = data_train[data_train['label'] == 0]\n",
        "df = true_fact.append(false_news[:len(true_fact) + 200])\n",
        "\n",
        "df"
      ],
      "metadata": {
        "id": "g2s7WvQ8eO5n",
        "colab": {
          "base_uri": "https://localhost:8080/",
          "height": 572
        },
        "outputId": "81f89871-6ff3-4991-aed3-345ed26838dc"
      },
      "execution_count": 8,
      "outputs": [
        {
          "output_type": "execute_result",
          "data": {
            "text/plain": [
              "          ID  label    tanggal  \\\n",
              "19      6775      0  25-Oct-17   \n",
              "21      7038      0  13-Jul-17   \n",
              "22      7214      0   8-Mar-17   \n",
              "55     13483      0  17-Jul-18   \n",
              "58     13907      0  28-Apr-18   \n",
              "...      ...    ...        ...   \n",
              "3514  825739      1   5-Dec-17   \n",
              "1134  264116      1   3-Feb-20   \n",
              "693   160657      1  31-Agu-18   \n",
              "1649  376033      1   4-Feb-17   \n",
              "3853  905638      1  10-Nov-18   \n",
              "\n",
              "                                                  judul  \\\n",
              "19         Sandi Sarankan Warga Ngadu ke Kelurahan Saja   \n",
              "21    Irina, Istri Ahli IT Hermansyah disebut Mantan...   \n",
              "22    Nezar Patria adalah Kader PKI, Ikut Rapat Seti...   \n",
              "55    Coach Indra Sjafri: Saya Pernah 1 Tahun Tak Di...   \n",
              "58    Kronologis Polisi Berondong Sedan Terobos Razi...   \n",
              "...                                                 ...   \n",
              "3514  Akun Twitter Kementerian Luar Negeri RI Unggah...   \n",
              "1134                         They call it disinfection?   \n",
              "693                 Omongan Bin Masak Ngak DIperhatikan   \n",
              "1649  KTP Pemilih Digandakan Untuk Orang Yang Sama B...   \n",
              "3853  Karena Sepi Penonton, Teman Ahok Diberi Tiket ...   \n",
              "\n",
              "                                                 narasi nama file gambar  \n",
              "19    Astaga! Sandiaga Sarankan Warga Ngadu ke Kelur...         6775.jpg  \n",
              "21    Irina, Istri Ahli IT Hermansyah disebut Mantan...         7038.jpg  \n",
              "22    Nezar Patria adalah Kader PKI, Ikut Rapat Seti...         7214.jpg  \n",
              "55    Kendati sukses mengantarkan Timnas Indonesia U...        13483.png  \n",
              "58    Innalillah… Hanya Karena Lalai Terobos Razia, ...        13907.png  \n",
              "...                                                 ...              ...  \n",
              "3514  “Akun twitter Kemlu RI posting film porno.. ko...       825739.jpg  \n",
              "1134    They call it disinfection? Indonesia… no words.       264116.png  \n",
              "693   “Omongan Bin Masak Ngak DIperhatikan.. Ngeri N...       160657.jpg  \n",
              "1649  Ditemukan penggandaan KTP untuk pilkada, hati-...       376033.png  \n",
              "3853  Penonton Sepi, Teman Ahok Dikasih Tiket Gratis...       905638.png  \n",
              "\n",
              "[1732 rows x 6 columns]"
            ],
            "text/html": [
              "\n",
              "  <div id=\"df-e597d6e4-e685-4152-8d02-f723987087f5\">\n",
              "    <div class=\"colab-df-container\">\n",
              "      <div>\n",
              "<style scoped>\n",
              "    .dataframe tbody tr th:only-of-type {\n",
              "        vertical-align: middle;\n",
              "    }\n",
              "\n",
              "    .dataframe tbody tr th {\n",
              "        vertical-align: top;\n",
              "    }\n",
              "\n",
              "    .dataframe thead th {\n",
              "        text-align: right;\n",
              "    }\n",
              "</style>\n",
              "<table border=\"1\" class=\"dataframe\">\n",
              "  <thead>\n",
              "    <tr style=\"text-align: right;\">\n",
              "      <th></th>\n",
              "      <th>ID</th>\n",
              "      <th>label</th>\n",
              "      <th>tanggal</th>\n",
              "      <th>judul</th>\n",
              "      <th>narasi</th>\n",
              "      <th>nama file gambar</th>\n",
              "    </tr>\n",
              "  </thead>\n",
              "  <tbody>\n",
              "    <tr>\n",
              "      <th>19</th>\n",
              "      <td>6775</td>\n",
              "      <td>0</td>\n",
              "      <td>25-Oct-17</td>\n",
              "      <td>Sandi Sarankan Warga Ngadu ke Kelurahan Saja</td>\n",
              "      <td>Astaga! Sandiaga Sarankan Warga Ngadu ke Kelur...</td>\n",
              "      <td>6775.jpg</td>\n",
              "    </tr>\n",
              "    <tr>\n",
              "      <th>21</th>\n",
              "      <td>7038</td>\n",
              "      <td>0</td>\n",
              "      <td>13-Jul-17</td>\n",
              "      <td>Irina, Istri Ahli IT Hermansyah disebut Mantan...</td>\n",
              "      <td>Irina, Istri Ahli IT Hermansyah disebut Mantan...</td>\n",
              "      <td>7038.jpg</td>\n",
              "    </tr>\n",
              "    <tr>\n",
              "      <th>22</th>\n",
              "      <td>7214</td>\n",
              "      <td>0</td>\n",
              "      <td>8-Mar-17</td>\n",
              "      <td>Nezar Patria adalah Kader PKI, Ikut Rapat Seti...</td>\n",
              "      <td>Nezar Patria adalah Kader PKI, Ikut Rapat Seti...</td>\n",
              "      <td>7214.jpg</td>\n",
              "    </tr>\n",
              "    <tr>\n",
              "      <th>55</th>\n",
              "      <td>13483</td>\n",
              "      <td>0</td>\n",
              "      <td>17-Jul-18</td>\n",
              "      <td>Coach Indra Sjafri: Saya Pernah 1 Tahun Tak Di...</td>\n",
              "      <td>Kendati sukses mengantarkan Timnas Indonesia U...</td>\n",
              "      <td>13483.png</td>\n",
              "    </tr>\n",
              "    <tr>\n",
              "      <th>58</th>\n",
              "      <td>13907</td>\n",
              "      <td>0</td>\n",
              "      <td>28-Apr-18</td>\n",
              "      <td>Kronologis Polisi Berondong Sedan Terobos Razi...</td>\n",
              "      <td>Innalillah… Hanya Karena Lalai Terobos Razia, ...</td>\n",
              "      <td>13907.png</td>\n",
              "    </tr>\n",
              "    <tr>\n",
              "      <th>...</th>\n",
              "      <td>...</td>\n",
              "      <td>...</td>\n",
              "      <td>...</td>\n",
              "      <td>...</td>\n",
              "      <td>...</td>\n",
              "      <td>...</td>\n",
              "    </tr>\n",
              "    <tr>\n",
              "      <th>3514</th>\n",
              "      <td>825739</td>\n",
              "      <td>1</td>\n",
              "      <td>5-Dec-17</td>\n",
              "      <td>Akun Twitter Kementerian Luar Negeri RI Unggah...</td>\n",
              "      <td>“Akun twitter Kemlu RI posting film porno.. ko...</td>\n",
              "      <td>825739.jpg</td>\n",
              "    </tr>\n",
              "    <tr>\n",
              "      <th>1134</th>\n",
              "      <td>264116</td>\n",
              "      <td>1</td>\n",
              "      <td>3-Feb-20</td>\n",
              "      <td>They call it disinfection?</td>\n",
              "      <td>They call it disinfection? Indonesia… no words.</td>\n",
              "      <td>264116.png</td>\n",
              "    </tr>\n",
              "    <tr>\n",
              "      <th>693</th>\n",
              "      <td>160657</td>\n",
              "      <td>1</td>\n",
              "      <td>31-Agu-18</td>\n",
              "      <td>Omongan Bin Masak Ngak DIperhatikan</td>\n",
              "      <td>“Omongan Bin Masak Ngak DIperhatikan.. Ngeri N...</td>\n",
              "      <td>160657.jpg</td>\n",
              "    </tr>\n",
              "    <tr>\n",
              "      <th>1649</th>\n",
              "      <td>376033</td>\n",
              "      <td>1</td>\n",
              "      <td>4-Feb-17</td>\n",
              "      <td>KTP Pemilih Digandakan Untuk Orang Yang Sama B...</td>\n",
              "      <td>Ditemukan penggandaan KTP untuk pilkada, hati-...</td>\n",
              "      <td>376033.png</td>\n",
              "    </tr>\n",
              "    <tr>\n",
              "      <th>3853</th>\n",
              "      <td>905638</td>\n",
              "      <td>1</td>\n",
              "      <td>10-Nov-18</td>\n",
              "      <td>Karena Sepi Penonton, Teman Ahok Diberi Tiket ...</td>\n",
              "      <td>Penonton Sepi, Teman Ahok Dikasih Tiket Gratis...</td>\n",
              "      <td>905638.png</td>\n",
              "    </tr>\n",
              "  </tbody>\n",
              "</table>\n",
              "<p>1732 rows × 6 columns</p>\n",
              "</div>\n",
              "      <button class=\"colab-df-convert\" onclick=\"convertToInteractive('df-e597d6e4-e685-4152-8d02-f723987087f5')\"\n",
              "              title=\"Convert this dataframe to an interactive table.\"\n",
              "              style=\"display:none;\">\n",
              "        \n",
              "  <svg xmlns=\"http://www.w3.org/2000/svg\" height=\"24px\"viewBox=\"0 0 24 24\"\n",
              "       width=\"24px\">\n",
              "    <path d=\"M0 0h24v24H0V0z\" fill=\"none\"/>\n",
              "    <path d=\"M18.56 5.44l.94 2.06.94-2.06 2.06-.94-2.06-.94-.94-2.06-.94 2.06-2.06.94zm-11 1L8.5 8.5l.94-2.06 2.06-.94-2.06-.94L8.5 2.5l-.94 2.06-2.06.94zm10 10l.94 2.06.94-2.06 2.06-.94-2.06-.94-.94-2.06-.94 2.06-2.06.94z\"/><path d=\"M17.41 7.96l-1.37-1.37c-.4-.4-.92-.59-1.43-.59-.52 0-1.04.2-1.43.59L10.3 9.45l-7.72 7.72c-.78.78-.78 2.05 0 2.83L4 21.41c.39.39.9.59 1.41.59.51 0 1.02-.2 1.41-.59l7.78-7.78 2.81-2.81c.8-.78.8-2.07 0-2.86zM5.41 20L4 18.59l7.72-7.72 1.47 1.35L5.41 20z\"/>\n",
              "  </svg>\n",
              "      </button>\n",
              "      \n",
              "  <style>\n",
              "    .colab-df-container {\n",
              "      display:flex;\n",
              "      flex-wrap:wrap;\n",
              "      gap: 12px;\n",
              "    }\n",
              "\n",
              "    .colab-df-convert {\n",
              "      background-color: #E8F0FE;\n",
              "      border: none;\n",
              "      border-radius: 50%;\n",
              "      cursor: pointer;\n",
              "      display: none;\n",
              "      fill: #1967D2;\n",
              "      height: 32px;\n",
              "      padding: 0 0 0 0;\n",
              "      width: 32px;\n",
              "    }\n",
              "\n",
              "    .colab-df-convert:hover {\n",
              "      background-color: #E2EBFA;\n",
              "      box-shadow: 0px 1px 2px rgba(60, 64, 67, 0.3), 0px 1px 3px 1px rgba(60, 64, 67, 0.15);\n",
              "      fill: #174EA6;\n",
              "    }\n",
              "\n",
              "    [theme=dark] .colab-df-convert {\n",
              "      background-color: #3B4455;\n",
              "      fill: #D2E3FC;\n",
              "    }\n",
              "\n",
              "    [theme=dark] .colab-df-convert:hover {\n",
              "      background-color: #434B5C;\n",
              "      box-shadow: 0px 1px 3px 1px rgba(0, 0, 0, 0.15);\n",
              "      filter: drop-shadow(0px 1px 2px rgba(0, 0, 0, 0.3));\n",
              "      fill: #FFFFFF;\n",
              "    }\n",
              "  </style>\n",
              "\n",
              "      <script>\n",
              "        const buttonEl =\n",
              "          document.querySelector('#df-e597d6e4-e685-4152-8d02-f723987087f5 button.colab-df-convert');\n",
              "        buttonEl.style.display =\n",
              "          google.colab.kernel.accessAllowed ? 'block' : 'none';\n",
              "\n",
              "        async function convertToInteractive(key) {\n",
              "          const element = document.querySelector('#df-e597d6e4-e685-4152-8d02-f723987087f5');\n",
              "          const dataTable =\n",
              "            await google.colab.kernel.invokeFunction('convertToInteractive',\n",
              "                                                     [key], {});\n",
              "          if (!dataTable) return;\n",
              "\n",
              "          const docLinkHtml = 'Like what you see? Visit the ' +\n",
              "            '<a target=\"_blank\" href=https://colab.research.google.com/notebooks/data_table.ipynb>data table notebook</a>'\n",
              "            + ' to learn more about interactive tables.';\n",
              "          element.innerHTML = '';\n",
              "          dataTable['output_type'] = 'display_data';\n",
              "          await google.colab.output.renderOutput(dataTable, element);\n",
              "          const docLink = document.createElement('div');\n",
              "          docLink.innerHTML = docLinkHtml;\n",
              "          element.appendChild(docLink);\n",
              "        }\n",
              "      </script>\n",
              "    </div>\n",
              "  </div>\n",
              "  "
            ]
          },
          "metadata": {},
          "execution_count": 8
        }
      ]
    },
    {
      "cell_type": "code",
      "source": [
        "# menggunakan fitur narasi dalam melakukan prediksi terhadap label\n",
        "feature = df['narasi']\n",
        "label = df['label']"
      ],
      "metadata": {
        "id": "QeI9psn3eeSS"
      },
      "execution_count": 9,
      "outputs": []
    },
    {
      "cell_type": "code",
      "source": [
        "# Mengubah semua huruf pada setiap baris menjadi huruf kecil dan\n",
        "# melakukan stemming pada setiap baris\n",
        "lower = [stemmer.stem(row.lower()) for row in feature]\n",
        "\n",
        "# Hasil stem dan lower\n",
        "lower[:5]"
      ],
      "metadata": {
        "id": "ZQqUJF3TelL5",
        "colab": {
          "base_uri": "https://localhost:8080/"
        },
        "outputId": "5edf9fff-e338-4970-fe81-1ee092e52712"
      },
      "execution_count": 10,
      "outputs": [
        {
          "output_type": "execute_result",
          "data": {
            "text/plain": [
              "['astaga sandiaga saran warga ngadu ke lurah saja tak perlu ke balai kota',\n",
              " 'irina istri ahli it hermansyah sebut mantan psk',\n",
              " 'nezar patria adalah kader pki ikut rapat tiap malam di istana telah jam 8 malam demikian tuduh dari alfian tandjung',\n",
              " 'kendati sukses antar timnas indonesia u-19 juara piala aff u-19 2013 dan lolos ke putar final piala asia u-19 2014',\n",
              " 'innalillah hanya karena lalai terobos razia mobil isi satu keluarga tembak polisi satu orang tewas']"
            ]
          },
          "metadata": {},
          "execution_count": 10
        }
      ]
    },
    {
      "cell_type": "code",
      "source": [
        "# Melakukan tokenisasi untuk setiap baris dataset\n",
        "tokens = [word_tokenize(element) for element in lower]\n",
        "\n",
        "# Hasil tokenisasi setiap baris\n",
        "tokens[:5]"
      ],
      "metadata": {
        "id": "NPO8kXazh5CH",
        "colab": {
          "base_uri": "https://localhost:8080/"
        },
        "outputId": "6a10750b-f784-400b-a2dc-ecd3749aa5f3"
      },
      "execution_count": 11,
      "outputs": [
        {
          "output_type": "execute_result",
          "data": {
            "text/plain": [
              "[['astaga',\n",
              "  'sandiaga',\n",
              "  'saran',\n",
              "  'warga',\n",
              "  'ngadu',\n",
              "  'ke',\n",
              "  'lurah',\n",
              "  'saja',\n",
              "  'tak',\n",
              "  'perlu',\n",
              "  'ke',\n",
              "  'balai',\n",
              "  'kota'],\n",
              " ['irina', 'istri', 'ahli', 'it', 'hermansyah', 'sebut', 'mantan', 'psk'],\n",
              " ['nezar',\n",
              "  'patria',\n",
              "  'adalah',\n",
              "  'kader',\n",
              "  'pki',\n",
              "  'ikut',\n",
              "  'rapat',\n",
              "  'tiap',\n",
              "  'malam',\n",
              "  'di',\n",
              "  'istana',\n",
              "  'telah',\n",
              "  'jam',\n",
              "  '8',\n",
              "  'malam',\n",
              "  'demikian',\n",
              "  'tuduh',\n",
              "  'dari',\n",
              "  'alfian',\n",
              "  'tandjung'],\n",
              " ['kendati',\n",
              "  'sukses',\n",
              "  'antar',\n",
              "  'timnas',\n",
              "  'indonesia',\n",
              "  'u-19',\n",
              "  'juara',\n",
              "  'piala',\n",
              "  'aff',\n",
              "  'u-19',\n",
              "  '2013',\n",
              "  'dan',\n",
              "  'lolos',\n",
              "  'ke',\n",
              "  'putar',\n",
              "  'final',\n",
              "  'piala',\n",
              "  'asia',\n",
              "  'u-19',\n",
              "  '2014'],\n",
              " ['innalillah',\n",
              "  'hanya',\n",
              "  'karena',\n",
              "  'lalai',\n",
              "  'terobos',\n",
              "  'razia',\n",
              "  'mobil',\n",
              "  'isi',\n",
              "  'satu',\n",
              "  'keluarga',\n",
              "  'tembak',\n",
              "  'polisi',\n",
              "  'satu',\n",
              "  'orang',\n",
              "  'tewas']]"
            ]
          },
          "metadata": {},
          "execution_count": 11
        }
      ]
    },
    {
      "cell_type": "code",
      "source": [
        "# train_test_split digunakan untuk memecah dataset menjadi 2 bagian\n",
        "# X_train dan y_train mewakili data yang akan dilakukan pada fitting model(Training model)\n",
        "# X_test dan y_test  mewakili data yang akan dilakukan pada evaluasi model\n",
        "X_train, X_test, y_train, y_test = train_test_split(tokens, label, test_size=0.2, stratify=label)"
      ],
      "metadata": {
        "id": "aKutSGbDh9g_"
      },
      "execution_count": 12,
      "outputs": []
    },
    {
      "cell_type": "code",
      "source": [
        "# Melihat ukuran data latih dan data uji\n",
        "print('X_train : ', len(X_train))\n",
        "print('X_test : ', len(X_test))"
      ],
      "metadata": {
        "id": "96BVAR2iiLEr",
        "colab": {
          "base_uri": "https://localhost:8080/"
        },
        "outputId": "37c1217b-4ab7-46e5-d5aa-fd4868ded1b9"
      },
      "execution_count": 13,
      "outputs": [
        {
          "output_type": "stream",
          "name": "stdout",
          "text": [
            "X_train :  1385\n",
            "X_test :  347\n"
          ]
        }
      ]
    },
    {
      "cell_type": "code",
      "source": [
        "y_train = Encoder.fit_transform(y_train)\n",
        "y_test = Encoder.fit_transform(y_test)\n",
        "\n",
        "y_train"
      ],
      "metadata": {
        "id": "2SscRTvSiOOi",
        "colab": {
          "base_uri": "https://localhost:8080/"
        },
        "outputId": "22808062-2712-4806-9dc8-1aa7825284d2"
      },
      "execution_count": 14,
      "outputs": [
        {
          "output_type": "execute_result",
          "data": {
            "text/plain": [
              "array([1, 0, 1, ..., 0, 1, 0])"
            ]
          },
          "metadata": {},
          "execution_count": 14
        }
      ]
    },
    {
      "cell_type": "code",
      "source": [
        "Tfidf_vect.fit([\"\".join(row) for row in X_train])"
      ],
      "metadata": {
        "id": "LknJVoT0iTvC",
        "colab": {
          "base_uri": "https://localhost:8080/"
        },
        "outputId": "0acf8999-82f6-4edf-a87c-5161d15f443f"
      },
      "execution_count": 15,
      "outputs": [
        {
          "output_type": "execute_result",
          "data": {
            "text/plain": [
              "TfidfVectorizer()"
            ]
          },
          "metadata": {},
          "execution_count": 15
        }
      ]
    },
    {
      "cell_type": "code",
      "source": [
        "X_train_Tfidf = Tfidf_vect.transform([\" \".join(row) for row in X_train])\n",
        "X_test_Tfidf = Tfidf_vect.transform([\" \".join(row) for row in X_test])"
      ],
      "metadata": {
        "id": "qydRgj-qiW2l"
      },
      "execution_count": 16,
      "outputs": []
    },
    {
      "cell_type": "code",
      "source": [
        "# Classifier - Algorithm - SVM\n",
        "# fitting/training datasets pada algoritma SVM(Support Vector Machine)\n",
        "SVM = svm.SVC(C=1.0, kernel='linear', degree=1, gamma=\"auto\", verbose=True)\n",
        "SVM.fit(X_train_Tfidf, y_train)  # predict the labels on validation dataset\n",
        "\n",
        "# Menggunakan metrics accuracy untuk melihat performa model\n",
        "predictions_SVM = SVM.predict(X_test_Tfidf)\n",
        "print(\"SVM Accuracy Score -> \", accuracy_score(predictions_SVM, y_test)*100)"
      ],
      "metadata": {
        "id": "SUUhMUHJiZ6O",
        "colab": {
          "base_uri": "https://localhost:8080/"
        },
        "outputId": "d33f11cc-5d36-40a2-df4d-7aff234c0b84"
      },
      "execution_count": 17,
      "outputs": [
        {
          "output_type": "stream",
          "name": "stdout",
          "text": [
            "[LibSVM]SVM Accuracy Score ->  59.94236311239193\n"
          ]
        }
      ]
    },
    {
      "cell_type": "code",
      "source": [
        "rf = RandomForestClassifier()\n",
        "rf.fit(X_train_Tfidf, y_train)\n",
        "\n",
        "prediction_rf = rf.predict(X_test_Tfidf)\n",
        "print(\"RandomForest Accuracy Score -> \", accuracy_score(prediction_rf, y_test)*100)"
      ],
      "metadata": {
        "id": "eEYeFLt5id_w",
        "colab": {
          "base_uri": "https://localhost:8080/"
        },
        "outputId": "ab52c3cb-c11a-4953-8313-15d7acf2c573"
      },
      "execution_count": 18,
      "outputs": [
        {
          "output_type": "stream",
          "name": "stdout",
          "text": [
            "RandomForest Accuracy Score ->  56.77233429394812\n"
          ]
        }
      ]
    },
    {
      "cell_type": "code",
      "source": [
        "import pickle\n",
        "#save model\n",
        "filename = 'finalized_model.pkl'\n",
        "pickle.dump(prediction_rf, open(filename, 'wb'))"
      ],
      "metadata": {
        "id": "V2aZMaZqW27E"
      },
      "execution_count": 23,
      "outputs": []
    }
  ]
}